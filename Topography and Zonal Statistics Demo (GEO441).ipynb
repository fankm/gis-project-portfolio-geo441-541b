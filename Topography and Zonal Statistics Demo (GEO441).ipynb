{
  "nbformat": 4,
  "nbformat_minor": 0,
  "metadata": {
    "colab": {
      "provenance": [],
      "collapsed_sections": [
        "WVs4J1jQbESU",
        "qka_P6BYVCo0",
        "rMufM1ZoVIsG"
      ],
      "include_colab_link": true
    },
    "kernelspec": {
      "name": "python3",
      "display_name": "Python 3"
    },
    "language_info": {
      "name": "python"
    }
  },
  "cells": [
    {
      "cell_type": "markdown",
      "metadata": {
        "id": "view-in-github",
        "colab_type": "text"
      },
      "source": [
        "<a href=\"https://colab.research.google.com/github/fankm/gis-project-portfolio-geo441-541b/blob/main/Geo441Wk9.ipynb\" target=\"_parent\"><img src=\"https://colab.research.google.com/assets/colab-badge.svg\" alt=\"Open In Colab\"/></a>"
      ]
    },
    {
      "cell_type": "markdown",
      "source": [
        "# **Spatial analysis for raster data**"
      ],
      "metadata": {
        "id": "C0ymCPR5aSHN"
      }
    },
    {
      "cell_type": "markdown",
      "source": [
        "🚀 Created by Myles Fankhauser\n",
        "\n",
        "10/23/2024"
      ],
      "metadata": {
        "id": "Pt_OREXFPvkr"
      }
    },
    {
      "cell_type": "markdown",
      "source": [
        "## **Overview**\n",
        "\n",
        "This notebook contains three parts:\n",
        "\n",
        "- Use the [USGS 3DEP](https://www.usgs.gov/3d-elevation-program) 10-m resolution DEM to create a topographic map of the City of Oxford, OH\n",
        "- Georeference a campus map and create a campus map on the background of hillshade derived based on the USGS 3DEP DEM\n",
        "- Use zonal statistics to calculate the average slope within each parcel of the City of Oxford, OH and identify parcels with steepest slope"
      ],
      "metadata": {
        "id": "6tKmlbnzny_I"
      }
    },
    {
      "cell_type": "markdown",
      "source": [
        "## **Map of elevation for the City of Oxford, OH**\n"
      ],
      "metadata": {
        "id": "WVs4J1jQbESU"
      }
    },
    {
      "cell_type": "markdown",
      "source": [
        "\n",
        "\n",
        "![Oxford, OH](https://drive.google.com/uc?export=view&id=1NxwYMrRlLwOy5Wr-QtT544Emnn5pkZe2)"
      ],
      "metadata": {
        "id": "wkJqun7umRRk"
      }
    },
    {
      "cell_type": "markdown",
      "source": [
        "## **Map of Miami University Campus**"
      ],
      "metadata": {
        "id": "qka_P6BYVCo0"
      }
    },
    {
      "cell_type": "markdown",
      "source": [
        "### **Georeference results**\n",
        "\n",
        "- Provide information of all GCPs you have used for georeferencing\n",
        "  - We require at least 10 GCPs\n",
        "\n",
        "![GCPs](https://drive.google.com/uc?export=view&id=1ohg_GCQ0Jte8iwK0XLnIUrDLL-mrDxve)"
      ],
      "metadata": {
        "id": "8kSIAr7TVatN"
      }
    },
    {
      "cell_type": "markdown",
      "source": [
        "### **Campus map**"
      ],
      "metadata": {
        "id": "rMufM1ZoVIsG"
      }
    },
    {
      "cell_type": "markdown",
      "source": [
        "\n",
        "![MU campus](https://drive.google.com/uc?export=view&id=1GSN-mIgYRsf0QidD7I4VPinc47gRkveU)"
      ],
      "metadata": {
        "id": "KzPQIHhyVU78"
      }
    },
    {
      "cell_type": "markdown",
      "source": [
        "## **Map of steep parcels in the City of Oxford, OH**"
      ],
      "metadata": {
        "id": "1_9kgv7nWPi0"
      }
    },
    {
      "cell_type": "markdown",
      "source": [
        "\n",
        "![mean parcel slope](https://drive.google.com/uc?export=view&id=19esC1cLg5OAHnnjz29OLCg54YsyO6XaS)"
      ],
      "metadata": {
        "id": "CTzTj_VIWrDj"
      }
    },
    {
      "cell_type": "markdown",
      "source": [
        "## **Reference**\n",
        "\n",
        "- [Markdown cheat sheet](https://www.markdownguide.org/cheat-sheet/)\n",
        "- [Insert other references]"
      ],
      "metadata": {
        "id": "fvMbEX89YLeY"
      }
    }
  ]
}