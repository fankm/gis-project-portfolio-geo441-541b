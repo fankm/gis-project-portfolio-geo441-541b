{
  "nbformat": 4,
  "nbformat_minor": 0,
  "metadata": {
    "colab": {
      "provenance": [],
      "include_colab_link": true
    },
    "kernelspec": {
      "name": "python3",
      "display_name": "Python 3"
    },
    "language_info": {
      "name": "python"
    }
  },
  "cells": [
    {
      "cell_type": "markdown",
      "metadata": {
        "id": "view-in-github",
        "colab_type": "text"
      },
      "source": [
        "<a href=\"https://colab.research.google.com/github/fankm/gis-project-portfolio-geo441-541b/blob/main/Geo441Wk3.ipynb\" target=\"_parent\"><img src=\"https://colab.research.google.com/assets/colab-badge.svg\" alt=\"Open In Colab\"/></a>"
      ]
    },
    {
      "cell_type": "markdown",
      "source": [
        "# **Projecting Geographic Data**"
      ],
      "metadata": {
        "id": "C0ymCPR5aSHN"
      }
    },
    {
      "cell_type": "markdown",
      "source": [
        "🚀 Created by Myles Fankhauser\n",
        "\n",
        "9/15/24"
      ],
      "metadata": {
        "id": "Pt_OREXFPvkr"
      }
    },
    {
      "cell_type": "markdown",
      "source": [
        "## **Overview**\n",
        "\n",
        "This notebook includes a map of reprojected Minnesota county boundaries with an inset global view. This is a start of more mapping exercise using different projections.\n",
        "\n",
        "Basic coordinate system information will be provided for the map. In next week, we will use maps produced under different projections and conduct measurement to understand the differences across projections. These recorded measurements will be entered into a worksheet."
      ],
      "metadata": {
        "id": "6tKmlbnzny_I"
      }
    },
    {
      "cell_type": "markdown",
      "source": [
        "## **Map Minnesota counties**\n"
      ],
      "metadata": {
        "id": "WVs4J1jQbESU"
      }
    },
    {
      "cell_type": "markdown",
      "source": [
        "- Below is a map of Minnesota counties\n",
        "\n",
        "```markdown\n",
        "https://drive.google.com/file/d/11Ebl3QQgWRVcl4dPxFqXsRQGTlkINMK8/view?usp=sharing\n",
        "```\n",
        "![MN map](https://drive.google.com/uc?export=view&id=11Ebl3QQgWRVcl4dPxFqXsRQGTlkINMK8)"
      ],
      "metadata": {
        "id": "wkJqun7umRRk"
      }
    },
    {
      "cell_type": "markdown",
      "source": [
        "## **Coordinates of selected points in Minnesota map**\n",
        "\n",
        "| Point      | X coordinate (lon)  | Y coordinate (lat) |\n",
        "| ------- | --------------------- |------------------- |\n",
        "| northeast corner of Ramsey County     | 92.9832  | 45.1231 |"
      ],
      "metadata": {
        "id": "5bk5DtYP3f_g"
      }
    },
    {
      "cell_type": "markdown",
      "source": [
        "## **Information of the coordinate systems**\n",
        "\n",
        "- By checking the **`Layer Properties`**, we can obtain the following info about the coordinate system used in map\n",
        "\n",
        "\n",
        "| Variable      | Information  |\n",
        "| ----------------------------- | -------------------------- |\n",
        "| Projection used in map     | Mercator  |\n",
        "| Projection zone number     | UTM15    |\n",
        "| Coordinate system      | WGS 1984   |\n",
        "| Datum | D WGS 1984|\n"
      ],
      "metadata": {
        "id": "i4RTLellbUh7"
      }
    },
    {
      "cell_type": "markdown",
      "source": [
        "## **Reference**\n",
        "\n",
        "- [Markdown cheat sheet](https://www.markdownguide.org/cheat-sheet/)\n",
        "- [Insert other references]"
      ],
      "metadata": {
        "id": "fvMbEX89YLeY"
      }
    }
  ]
}