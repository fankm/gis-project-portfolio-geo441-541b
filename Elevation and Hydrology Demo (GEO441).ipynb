{
  "nbformat": 4,
  "nbformat_minor": 0,
  "metadata": {
    "colab": {
      "provenance": [],
      "collapsed_sections": [
        "WVs4J1jQbESU"
      ],
      "include_colab_link": true
    },
    "kernelspec": {
      "name": "python3",
      "display_name": "Python 3"
    },
    "language_info": {
      "name": "python"
    }
  },
  "cells": [
    {
      "cell_type": "markdown",
      "metadata": {
        "id": "view-in-github",
        "colab_type": "text"
      },
      "source": [
        "<a href=\"https://colab.research.google.com/github/fankm/gis-project-portfolio-geo441-541b/blob/main/Geo441Wk8.ipynb\" target=\"_parent\"><img src=\"https://colab.research.google.com/assets/colab-badge.svg\" alt=\"Open In Colab\"/></a>"
      ]
    },
    {
      "cell_type": "markdown",
      "source": [
        "# **Mapping digital elevation and hydrology data**"
      ],
      "metadata": {
        "id": "C0ymCPR5aSHN"
      }
    },
    {
      "cell_type": "markdown",
      "source": [
        "🚀 Created by Myles Fankhauser\n",
        "\n",
        "10/15/2024"
      ],
      "metadata": {
        "id": "Pt_OREXFPvkr"
      }
    },
    {
      "cell_type": "markdown",
      "source": [
        "## **Overview**\n",
        "\n",
        "This notebook contains the following two parts:\n",
        "\n",
        "- Create a map following the [assignment guide](https://miamioh.instructure.com/files/33254544/download?download_frd=1) for a digital elevation model of [Lower St. Croix watershed in Minnesoda](https://www.pca.state.mn.us/watershed-information/lower-st-croix-river) and hydrological data from National Hydrological Data (NHD)\n",
        "- Identify at least one raster dataset that can be used in your group project\n",
        "  - Revisit our [project topic pool](https://colab.research.google.com/drive/1aLwfdEKYufJ5s0H8CxbtKfEopYriQGIi?usp=drive_link) if necessary"
      ],
      "metadata": {
        "id": "6tKmlbnzny_I"
      }
    },
    {
      "cell_type": "markdown",
      "source": [
        "## **Map of elevation and hydrological information of the Lower St. Croix River Watershed, MN**\n"
      ],
      "metadata": {
        "id": "WVs4J1jQbESU"
      }
    },
    {
      "cell_type": "markdown",
      "source": [
        "![lower st croix watershed](https://drive.google.com/uc?export=view&id=1vCLNHsFHi0ohZVaSl5FeNuzRulX8buHb)"
      ],
      "metadata": {
        "id": "wkJqun7umRRk"
      }
    },
    {
      "cell_type": "markdown",
      "source": [
        "## **Save and share this notebook**\n",
        "\n",
        "- Make this notebook viewable by anyone with the link and submit the link to Canvas as Week 8 assignment"
      ],
      "metadata": {
        "id": "kkgukjDcXsqC"
      }
    },
    {
      "cell_type": "markdown",
      "source": [
        "## **Reference**\n",
        "\n",
        "- [Markdown cheat sheet](https://www.markdownguide.org/cheat-sheet/)\n",
        "- [Insert other references]"
      ],
      "metadata": {
        "id": "fvMbEX89YLeY"
      }
    }
  ]
}