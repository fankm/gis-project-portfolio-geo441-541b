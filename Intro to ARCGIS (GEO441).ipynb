{
  "nbformat": 4,
  "nbformat_minor": 0,
  "metadata": {
    "colab": {
      "provenance": [],
      "authorship_tag": "ABX9TyPWFn5Gt7vfT1ctczaE6wuk"
    },
    "kernelspec": {
      "name": "python3",
      "display_name": "Python 3"
    },
    "language_info": {
      "name": "python"
    }
  },
  "cells": [
    {
      "cell_type": "markdown",
      "source": [
        "# **GEO 441B/541B Week 1 Assignment: Introduction to ArcGIS Pro GUI**\n",
        "\n",
        "Myles Fankhauser\n",
        "\n",
        "8/26/24"
      ],
      "metadata": {
        "id": "-u9ljzsMwEOA"
      }
    },
    {
      "cell_type": "markdown",
      "source": [
        "# **Getting Started**"
      ],
      "metadata": {
        "id": "jLEcvUAwxTfr"
      }
    },
    {
      "cell_type": "markdown",
      "source": [
        "## **Creating our First Map with ArcGIS Pro**"
      ],
      "metadata": {
        "id": "jxB5bmI8xmb2"
      }
    },
    {
      "cell_type": "markdown",
      "source": [
        "1. **Instructions**\n",
        "  - Follow mapping instructions from [this canvas file](https://miamioh.instructure.com/courses/218994/files/32640807?wrap=1)\n",
        "  - Mapping instructions are adapted from\n",
        "Lab 1: Introduction to ArcGIS Pro in [GIS Fundamentals Resource Page]( https://www.gisfundamentals.org/resources)\n",
        "\n",
        "2. **Share Map**\n",
        "  - Upload the PNG file exported from ArcGIS Pro to my Google Drive folder for Week 1 assignment\n",
        "  - Change Share privilege to make this le viewable by anyone with a link\n",
        "  - Copy the sharable link\n",
        "3. **Obtain a Sharable Link**\n",
        "  - The default link for this PNG cannot be directly used in Notebook to correctly display the image\n",
        "  - Required changes for the updated link:\n",
        "    - Keep the **14ZkDDN6esG_65Qgi7w5er2Np9appP5NZ** part because this is the unique file ID for the picture\n",
        "    - Delete **/view?usp=sharing** at the end of the link\n",
        "    - Replace **/file/d/** with **/uc?export=view&id=**\n",
        "  - As an example\n",
        "    - Sharable Link\n",
        "```\n",
        "![commute](https://drive.google.com/uc?export=view&id=14ZkDDN6esG_65Qgi7w5er2Np9appP5NZ)\n",
        "```\n",
        "\n",
        "![commute](https://drive.google.com/uc?export=view&id=14ZkDDN6esG_65Qgi7w5er2Np9appP5NZ)\n",
        "\n",
        "4. **My Map**\n",
        "\n",
        "  - We've worked out png embeds, now here's the output of the module 1 exercises:\n",
        "\n",
        "## Hugo, MN\n",
        "\n",
        "![Hugo Lakes and Roads](https://drive.google.com/uc?export=view&id=1nv9S82NrpT1H4Hpp1YB7pmvHsuszX8He)\n",
        "\n",
        "My first layout export, rough around the edges\n",
        "\n",
        "## Wetlands\n",
        "\n",
        "![Wetlands](https://drive.google.com/uc?export=view&id=1g6aBWDLPxoYFqlem_8EgkFOXP9Ud3xgk)\n",
        "\n",
        "You can tell I neglected to double check the bounds of the map before exporting, I'll remember in the future\n",
        "\n",
        "## Cloquet Forestry Center\n",
        "\n",
        "![Cloquet Forestry Center](https://drive.google.com/uc?export=view&id=1Rt7Xqpj57lO6uZvIsUP-_8iQ1OzBxsKr)\n",
        "\n",
        "My final layout of this first project, accumulates what I've learned about the tool over the course of the exercise"
      ],
      "metadata": {
        "id": "urmXSi2kyM6G"
      }
    },
    {
      "cell_type": "markdown",
      "source": [
        "Also before I forget, I measured\n",
        "\n",
        "1951 feet from the gravel pit to the lookout tower\n",
        "\n",
        "\n",
        "1.02 square miles per group (I assume this is supposed to be 1.00 flat)"
      ],
      "metadata": {
        "id": "Lz8DaIv1BmTd"
      }
    },
    {
      "cell_type": "markdown",
      "source": [
        "## **Reflection of my First Experience with ArcGIS Pro**"
      ],
      "metadata": {
        "id": "h1h-yAWu3qGl"
      }
    },
    {
      "cell_type": "markdown",
      "source": [
        "-Overall I spent a few hours on my maps learning the basics of ArcGIS Pro\n",
        "\n",
        "-Here's a table!\n",
        "\n",
        "| Things I'm excited about            | Things challenging for me  |\n",
        "| -----------------------------       | -------------------------- |\n",
        "| ArcGIS Workflow on larger projects         | Learning the tool after using QGIS  |\n",
        "| Opportunity to utilize better performance         | Some quirks in ArcGIS (more below)*    |\n",
        "\n",
        "\n",
        "~~A table was a weird way to format that~~\n",
        "\n",
        "\n",
        "- Here is how I rate my first experience working in ArcGIS Pro\n",
        "  - Data important and management\n",
        "    - The GUI is at first a bit difficult to parse and I had trouble importing on the first go but that was also an organization problem on my end (finding the correct path of the files I intended to import).\n",
        "  - Map creation and annotation\n",
        "    - A smoother version of QGIS. *The only problem I have is with the presets of map addons in the layout menu. From my understanding, you can add any object with any image, as shown in the file upload when you edit the style of, for example, the North Arrow. I struggled to find the correct way to change the image preset of the North Arrow without also opening a can of worms with 1. other presets of icons for map addon objects, and 2. uploading my own icons. Fundamentally it's a design of convenience that compromises a bit with the ability to add your own objects to the layout, which isn't necessarily a difficult thing, just a bit clunky to feel your way around when you're new to the (quite extensive) GUI.\n",
        "  - ArcGIS Pro GUI\n",
        "    - My overall experience was similar to that of learning QGIS, it can be intimidating having so many options open to you at first, but I can see myself getting just as accustomed to it and being able to achieve a decent workflow (being able to edit what you want to see in the user interface is also a great feature for this especially since we'll probably be using plugins later)."
      ],
      "metadata": {
        "id": "sCwy0FlR31CM"
      }
    },
    {
      "cell_type": "markdown",
      "source": [
        "## **Saving and Sharing my Notebook**"
      ],
      "metadata": {
        "id": "9LVsj6ZC40fO"
      }
    },
    {
      "cell_type": "markdown",
      "source": [
        "  - I made this viewable by link\n",
        "  - And submitted the link to the week 1 assignment on canvas"
      ],
      "metadata": {
        "id": "N34m2CmU4-K2"
      }
    },
    {
      "cell_type": "markdown",
      "source": [
        "## **Reference**"
      ],
      "metadata": {
        "id": "Twcm0lGm5UZv"
      }
    },
    {
      "cell_type": "markdown",
      "source": [
        "- [Markdown cheat sheet](https://www.markdownguide.org/cheat-sheet/)\n",
        "- [Insert other references]"
      ],
      "metadata": {
        "id": "oilfiBW35aCf"
      }
    },
    {
      "cell_type": "markdown",
      "source": [],
      "metadata": {
        "id": "7EFKbPGMzKvp"
      }
    }
  ]
}