{
  "nbformat": 4,
  "nbformat_minor": 0,
  "metadata": {
    "colab": {
      "provenance": [],
      "toc_visible": true,
      "include_colab_link": true
    },
    "kernelspec": {
      "name": "python3",
      "display_name": "Python 3"
    },
    "language_info": {
      "name": "python"
    }
  },
  "cells": [
    {
      "cell_type": "markdown",
      "metadata": {
        "id": "view-in-github",
        "colab_type": "text"
      },
      "source": [
        "<a href=\"https://colab.research.google.com/github/fankm/gis-project-portfolio-geo441-541b/blob/main/Geo441Wk5.ipynb\" target=\"_parent\"><img src=\"https://colab.research.google.com/assets/colab-badge.svg\" alt=\"Open In Colab\"/></a>"
      ]
    },
    {
      "cell_type": "markdown",
      "source": [
        "# **Query spatial data for new insights**"
      ],
      "metadata": {
        "id": "C0ymCPR5aSHN"
      }
    },
    {
      "cell_type": "markdown",
      "source": [
        "🚀 Created by Myles Fankhauser\n",
        "\n",
        "9/30/24"
      ],
      "metadata": {
        "id": "Pt_OREXFPvkr"
      }
    },
    {
      "cell_type": "markdown",
      "source": [
        "## **Overview**\n",
        "\n",
        "This notebook features our latest work in conducting table queries, selections, making new datasets with table joins, and turning queried datasets into meaningful maps. You will find the following deliverables in this notebook:\n",
        "\n",
        "- A map showing High Population Counties with High Old/Young Ratios for counties in the Contiguous U.S. using the 2000 U.S. Census data\n",
        "- A map showing the Soil Fertility in a portion of Macon County, North Carolina"
      ],
      "metadata": {
        "id": "6tKmlbnzny_I"
      }
    },
    {
      "cell_type": "markdown",
      "source": [
        "## **Map old/young ratios of counties in Contiguous U.S.**\n"
      ],
      "metadata": {
        "id": "WVs4J1jQbESU"
      }
    },
    {
      "cell_type": "markdown",
      "source": [
        "![oldest counties map](https://drive.google.com/uc?export=view&id=110kuWeJk2cHpYo4hBmD_J37jnEZ4-J-f)\n",
        "\n",
        "Ideally I would have included the abreviation of the state next to the county name"
      ],
      "metadata": {
        "id": "wkJqun7umRRk"
      }
    },
    {
      "cell_type": "markdown",
      "source": [
        "### **Interpreting the map**\n",
        "\n",
        "- The map above found the following counties with the highest Age Index\n",
        "\n",
        "| State      | # County with Agen Index > 85  |\n",
        "| ------- | --------------------- |\n",
        "| [Florida]     | [Charlotte]  |\n",
        "| [Texas]     | [Llano]  |\n",
        "| [Florda]     | [Sarasota]  |"
      ],
      "metadata": {
        "id": "d8B4v6BIJYRw"
      }
    },
    {
      "cell_type": "markdown",
      "source": [
        "![US regions](https://www.legendsofamerica.com/wp-content/uploads/2020/03/UnitedStatesRegions.jpg)\n",
        "\n",
        "- In addition to states above, these regions also showed a relatively high (> 60) Age Index (refer to the map above for names of regions)\n",
        "  - Great Plains\n",
        "  - Everything else was in the 40s"
      ],
      "metadata": {
        "id": "KsimmmzQKbwM"
      }
    },
    {
      "cell_type": "markdown",
      "source": [
        "## **Using table join to create new data**\n",
        "\n",
        "- We created a new geospatial datafile with by joining a **Shapefile** (*demographics.shp*) with a **tabular file** (*more_data.dbf*).\n",
        "  - The **primary key** and **foreign key** used in both files are **BLKGRP**\n",
        "- With newly added data, we were able to identify counties with the number of household growing (HHPCTGROWT) and aveage household income (HHINCAVG) less than 30,000\n",
        "  - 17 of 167 records match these criteria"
      ],
      "metadata": {
        "id": "5bk5DtYP3f_g"
      }
    },
    {
      "cell_type": "markdown",
      "source": [
        "# **Fertility Map of Macon County Utilizing Table Joins**"
      ],
      "metadata": {
        "id": "dokOjWRyrmUk"
      }
    },
    {
      "cell_type": "markdown",
      "source": [
        "![Macon soil fertility](https://drive.google.com/uc?export=view&id=1DdLHeiEkAA-zx1AXtJHjE8qZOCd-qX-s)"
      ],
      "metadata": {
        "id": "Lg1TAhUQY2Ev"
      }
    },
    {
      "cell_type": "markdown",
      "source": [
        "## **Reference**\n",
        "\n",
        "- [Markdown cheat sheet](https://www.markdownguide.org/cheat-sheet/)\n",
        "- [Insert other references]"
      ],
      "metadata": {
        "id": "fvMbEX89YLeY"
      }
    }
  ]
}